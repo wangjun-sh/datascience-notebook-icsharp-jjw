{
 "cells": [
  {
   "cell_type": "code",
   "execution_count": 1,
   "metadata": {},
   "outputs": [
    {
     "data": {
      "text/html": [
       "Hello World"
      ],
      "text/plain": [
       "Hello World"
      ]
     },
     "metadata": {},
     "output_type": "display_data"
    }
   ],
   "source": [
    "Console.WriteLine(\"Hello World\");\n"
   ]
  },
  {
   "cell_type": "code",
   "execution_count": null,
   "metadata": {},
   "outputs": [],
   "source": [
    "using iTextSharp.text;\n",
    "using iTextSharp.text.pdf;\n",
    "\n"
   ]
  },
  {
   "cell_type": "code",
   "execution_count": null,
   "metadata": {},
   "outputs": [],
   "source": [
    "Rectangle pageSize = new Rectangle(1000, 500);\n",
    "Document document = new Document(pageSize, 10, 10, 120, 80);\n",
    "Fname = @\"testpdf.pdf\";\n",
    "PdfWriter writer = PdfWriter.GetInstance(document, new FileStream(Fname, FileMode.Create));\n",
    "document.Open();\n",
    "document.Add(new iTextSharp.text.Paragraph(\"Hello World! Hello People! \" +\n",
    "            \"Hello Sky! Hello Sun! Hello Moon! Hello Stars!\"));\n",
    "document.Close();\n",
    "writer.Close();"
   ]
  },
  {
   "cell_type": "code",
   "execution_count": null,
   "metadata": {},
   "outputs": [],
   "source": [
    "Console.WriteLine(\"Hello World\");"
   ]
  },
  {
   "cell_type": "code",
   "execution_count": null,
   "metadata": {},
   "outputs": [],
   "source": []
  }
 ],
 "metadata": {
  "kernelspec": {
   "display_name": "C#",
   "language": "csharp",
   "name": "kernel-spec"
  },
  "language_info": {
   "file_extension": ".cs",
   "mimetype": "text/x-csharp",
   "name": "C#",
   "pygments_lexer": "c#",
   "version": "4.0.30319"
  }
 },
 "nbformat": 4,
 "nbformat_minor": 2
}
